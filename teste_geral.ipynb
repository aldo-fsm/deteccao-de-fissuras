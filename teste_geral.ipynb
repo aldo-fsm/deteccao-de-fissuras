{
 "cells": [
  {
   "cell_type": "code",
   "execution_count": 59,
   "metadata": {},
   "outputs": [],
   "source": [
    "from tqdm import tqdm_notebook\n",
    "from matplotlib import pyplot as plt\n",
    "from fissure_detection import detect_fissures\n",
    "from skimage import color\n",
    "import numpy as np\n",
    "import utils\n",
    "import os"
   ]
  },
  {
   "cell_type": "code",
   "execution_count": 35,
   "metadata": {},
   "outputs": [
    {
     "data": {
      "text/plain": [
       "14"
      ]
     },
     "execution_count": 35,
     "metadata": {},
     "output_type": "execute_result"
    }
   ],
   "source": [
    "num_images = utils.num_images()\n",
    "num_images"
   ]
  },
  {
   "cell_type": "code",
   "execution_count": 64,
   "metadata": {},
   "outputs": [],
   "source": [
    "result_dir = 'results'"
   ]
  },
  {
   "cell_type": "code",
   "execution_count": 72,
   "metadata": {},
   "outputs": [
    {
     "data": {
      "application/vnd.jupyter.widget-view+json": {
       "model_id": "b56e682a52e9498ca9228bdb9aecc19a",
       "version_major": 2,
       "version_minor": 0
      },
      "text/plain": [
       "HBox(children=(IntProgress(value=0, max=14), HTML(value='')))"
      ]
     },
     "metadata": {},
     "output_type": "display_data"
    },
    {
     "name": "stdout",
     "output_type": "stream",
     "text": [
      "\n"
     ]
    }
   ],
   "source": [
    "outputs = []\n",
    "for i in tqdm_notebook(range(num_images)):\n",
    "    img_id = ('{' + f':0{len(str(num_images))}d' + '}').format(i+1)\n",
    "    output_dir = os.path.join(result_dir, img_id)\n",
    "    if not os.path.isdir(output_dir):\n",
    "        os.mkdir(output_dir)\n",
    "    \n",
    "    image = utils.load_image(i)\n",
    "    plt.imsave(output_dir + '/original.png', image, cmap='gray')\n",
    "    \n",
    "    result = detect_fissures(image)\n",
    "    plt.imsave(output_dir + '/detection.png', result, cmap='gray')\n",
    "\n",
    "    highlighted = color.gray2rgb(image)\n",
    "    highlighted[result == 1] = [255,0,0]\n",
    "    plt.imsave(output_dir + '/highlighted_fissures.png', highlighted)\n",
    "    outputs.append([image, result, highlighted])"
   ]
  },
  {
   "cell_type": "code",
   "execution_count": 83,
   "metadata": {},
   "outputs": [],
   "source": [
    "for i, output in enumerate(outputs):\n",
    "    img_id = ('{' + f':0{len(str(num_images))}d' + '}').format(i+1)\n",
    "    output[1] = output[1]*255\n",
    "    concat = np.concatenate([color.gray2rgb(i) for i in output], axis=1)\n",
    "    plt.imsave(f'results/concatenated/{img_id}.png', concat)"
   ]
  },
  {
   "cell_type": "code",
   "execution_count": null,
   "metadata": {},
   "outputs": [],
   "source": []
  }
 ],
 "metadata": {
  "kernelspec": {
   "display_name": "Python 3",
   "language": "python",
   "name": "python3"
  },
  "language_info": {
   "codemirror_mode": {
    "name": "ipython",
    "version": 3
   },
   "file_extension": ".py",
   "mimetype": "text/x-python",
   "name": "python",
   "nbconvert_exporter": "python",
   "pygments_lexer": "ipython3",
   "version": "3.7.3"
  }
 },
 "nbformat": 4,
 "nbformat_minor": 2
}
